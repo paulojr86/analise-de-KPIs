{
 "cells": [
  {
   "cell_type": "code",
   "execution_count": null,
   "id": "39e1f04d",
   "metadata": {},
   "outputs": [],
   "source": [
    "import numpy as np\n",
    "import pandas as pd\n",
    "import seaborn as sb\n",
    "import matplotlib.pyplot as plt\n",
    "%matplotlib inline "
   ]
  },
  {
   "cell_type": "code",
   "execution_count": null,
   "id": "12caed9b",
   "metadata": {},
   "outputs": [],
   "source": [
    "#o código começa aqui\n",
    "\n",
    "#lendo o arquivo excel que será usado para todo o projeto\n",
    "\n",
    "df = pd.read_excel('./Relatorio Leads x Mídia.xlsx')"
   ]
  },
  {
   "cell_type": "code",
   "execution_count": null,
   "id": "4b95ed22",
   "metadata": {},
   "outputs": [],
   "source": [
    "#visualizando o dataframe\n",
    "df.head()"
   ]
  },
  {
   "cell_type": "code",
   "execution_count": 45,
   "id": "b467807b",
   "metadata": {},
   "outputs": [
    {
     "data": {
      "text/plain": [
       "(282, 43)"
      ]
     },
     "execution_count": 45,
     "metadata": {},
     "output_type": "execute_result"
    }
   ],
   "source": [
    "# tamanho do dataframe: 282 linhas por 43 colunas\n",
    "df.shape"
   ]
  },
  {
   "cell_type": "code",
   "execution_count": 44,
   "id": "58a836f6",
   "metadata": {},
   "outputs": [
    {
     "data": {
      "text/plain": [
       "Index(['Nome', 'Telefone', 'Email', 'Referência', 'Status', 'Data do Cadastro',\n",
       "       'Data da Atualização', 'Corretores', 'Observação', 'Mídia',\n",
       "       'Data Nascimento', 'Tipo Pessoa', 'Rg', 'Cpf', 'Empresa', 'CNPJ',\n",
       "       'Nacionalidade', 'Naturalidade', 'Profissão', 'Quantidades de Filhos',\n",
       "       'Quantidades de Carros', 'Estado Civil', 'Renda', 'Marcadores', 'Radar',\n",
       "       'Data último atendimento', 'Perfil - Finalidade', 'Perfil - Tipo',\n",
       "       'Perfil - $Compra', 'Perfil - $Locação', 'Perfil - Referência',\n",
       "       'Perfil - Dormitórios', 'Perfil - Área Total', 'Perfil - Bairros',\n",
       "       'Perfil - Zona', 'Perfil - Cidade', 'Perfil - Suítes', 'Perfil - Vagas',\n",
       "       'Atendimentos', 'Indicações', 'Visitas', 'Propostas', 'Fechamentos'],\n",
       "      dtype='object')"
      ]
     },
     "execution_count": 44,
     "metadata": {},
     "output_type": "execute_result"
    }
   ],
   "source": [
    "# Todas as colunas do dataframe\n",
    "df.columns"
   ]
  },
  {
   "cell_type": "code",
   "execution_count": null,
   "id": "85723eb7",
   "metadata": {},
   "outputs": [],
   "source": [
    "#exclui até a coluna Data do Cadastro\n",
    "df1 = df.drop(df.loc[:, 'Nome':'Data do Cadastro'].columns, axis = 1)\n",
    "df1"
   ]
  },
  {
   "cell_type": "code",
   "execution_count": null,
   "id": "446ee997",
   "metadata": {},
   "outputs": [],
   "source": [
    "#exclui até a coluna Observação\n",
    "df2 = df1.drop(df.loc[:, 'Corretores':'Observação'].columns, axis = 1)\n",
    "df2"
   ]
  },
  {
   "cell_type": "code",
   "execution_count": null,
   "id": "0d57c076",
   "metadata": {},
   "outputs": [],
   "source": [
    "#exclui até a coluna Data último atendimento\n",
    "df3 = df2.drop(df.loc[:, 'Data Nascimento':'Data último atendimento'].columns, axis = 1)\n",
    "df3"
   ]
  },
  {
   "cell_type": "code",
   "execution_count": null,
   "id": "51652ce6",
   "metadata": {},
   "outputs": [],
   "source": [
    "#exclui até a coluna Perfil - Vagas\n",
    "df4 = df3.drop(df.loc[:, 'Perfil - $Compra':'Perfil - Vagas'].columns, axis = 1)\n",
    "df4"
   ]
  },
  {
   "cell_type": "code",
   "execution_count": 43,
   "id": "5b7766af",
   "metadata": {},
   "outputs": [
    {
     "data": {
      "text/html": [
       "<div>\n",
       "<style scoped>\n",
       "    .dataframe tbody tr th:only-of-type {\n",
       "        vertical-align: middle;\n",
       "    }\n",
       "\n",
       "    .dataframe tbody tr th {\n",
       "        vertical-align: top;\n",
       "    }\n",
       "\n",
       "    .dataframe thead th {\n",
       "        text-align: right;\n",
       "    }\n",
       "</style>\n",
       "<table border=\"1\" class=\"dataframe\">\n",
       "  <thead>\n",
       "    <tr style=\"text-align: right;\">\n",
       "      <th></th>\n",
       "      <th>Data da Atualização</th>\n",
       "      <th>Mídia</th>\n",
       "      <th>Perfil - Finalidade</th>\n",
       "      <th>Perfil - Tipo</th>\n",
       "      <th>Atendimentos</th>\n",
       "      <th>Visitas</th>\n",
       "      <th>Propostas</th>\n",
       "      <th>Fechamentos</th>\n",
       "    </tr>\n",
       "  </thead>\n",
       "  <tbody>\n",
       "    <tr>\n",
       "      <th>0</th>\n",
       "      <td>2022-10-18</td>\n",
       "      <td>Captação</td>\n",
       "      <td>Residencial</td>\n",
       "      <td>Apartamento</td>\n",
       "      <td>7</td>\n",
       "      <td>0</td>\n",
       "      <td>1</td>\n",
       "      <td>0</td>\n",
       "    </tr>\n",
       "    <tr>\n",
       "      <th>1</th>\n",
       "      <td>2022-10-17</td>\n",
       "      <td>ZL Imóvel</td>\n",
       "      <td>Comercial - Comercial</td>\n",
       "      <td>Salão - Salão</td>\n",
       "      <td>8</td>\n",
       "      <td>0</td>\n",
       "      <td>0</td>\n",
       "      <td>0</td>\n",
       "    </tr>\n",
       "    <tr>\n",
       "      <th>2</th>\n",
       "      <td>2022-10-17</td>\n",
       "      <td>Chaves Na Mão</td>\n",
       "      <td>Residencial - Residencial - Residencial</td>\n",
       "      <td>Sobrado - Casa - Sobrado</td>\n",
       "      <td>7</td>\n",
       "      <td>0</td>\n",
       "      <td>0</td>\n",
       "      <td>0</td>\n",
       "    </tr>\n",
       "    <tr>\n",
       "      <th>3</th>\n",
       "      <td>2022-10-14</td>\n",
       "      <td>ZL Imóvel</td>\n",
       "      <td>Comercial - Comercial</td>\n",
       "      <td>Salão - Salão</td>\n",
       "      <td>10</td>\n",
       "      <td>0</td>\n",
       "      <td>0</td>\n",
       "      <td>0</td>\n",
       "    </tr>\n",
       "    <tr>\n",
       "      <th>4</th>\n",
       "      <td>2022-10-14</td>\n",
       "      <td>Captação</td>\n",
       "      <td>Residencial - Residencial</td>\n",
       "      <td>Sobrado - Sobrado</td>\n",
       "      <td>7</td>\n",
       "      <td>0</td>\n",
       "      <td>0</td>\n",
       "      <td>0</td>\n",
       "    </tr>\n",
       "    <tr>\n",
       "      <th>...</th>\n",
       "      <td>...</td>\n",
       "      <td>...</td>\n",
       "      <td>...</td>\n",
       "      <td>...</td>\n",
       "      <td>...</td>\n",
       "      <td>...</td>\n",
       "      <td>...</td>\n",
       "      <td>...</td>\n",
       "    </tr>\n",
       "    <tr>\n",
       "      <th>277</th>\n",
       "      <td>2022-09-08</td>\n",
       "      <td>ZAP</td>\n",
       "      <td>Residencial</td>\n",
       "      <td>Apartamento</td>\n",
       "      <td>3</td>\n",
       "      <td>0</td>\n",
       "      <td>0</td>\n",
       "      <td>0</td>\n",
       "    </tr>\n",
       "    <tr>\n",
       "      <th>278</th>\n",
       "      <td>2022-09-06</td>\n",
       "      <td>ZAP</td>\n",
       "      <td>Residencial</td>\n",
       "      <td>Apartamento</td>\n",
       "      <td>3</td>\n",
       "      <td>0</td>\n",
       "      <td>0</td>\n",
       "      <td>0</td>\n",
       "    </tr>\n",
       "    <tr>\n",
       "      <th>279</th>\n",
       "      <td>2022-09-05</td>\n",
       "      <td>ZAP</td>\n",
       "      <td>Residencial - Residencial</td>\n",
       "      <td>Apartamento - Apartamento</td>\n",
       "      <td>4</td>\n",
       "      <td>0</td>\n",
       "      <td>0</td>\n",
       "      <td>0</td>\n",
       "    </tr>\n",
       "    <tr>\n",
       "      <th>280</th>\n",
       "      <td>2022-09-01</td>\n",
       "      <td>ZAP</td>\n",
       "      <td>Residencial</td>\n",
       "      <td>Apartamento</td>\n",
       "      <td>2</td>\n",
       "      <td>0</td>\n",
       "      <td>0</td>\n",
       "      <td>0</td>\n",
       "    </tr>\n",
       "    <tr>\n",
       "      <th>281</th>\n",
       "      <td>2022-09-01</td>\n",
       "      <td>Imovel Web</td>\n",
       "      <td>Residencial</td>\n",
       "      <td>Apartamento</td>\n",
       "      <td>2</td>\n",
       "      <td>0</td>\n",
       "      <td>0</td>\n",
       "      <td>0</td>\n",
       "    </tr>\n",
       "  </tbody>\n",
       "</table>\n",
       "<p>282 rows × 8 columns</p>\n",
       "</div>"
      ],
      "text/plain": [
       "    Data da Atualização          Mídia  \\\n",
       "0            2022-10-18       Captação   \n",
       "1            2022-10-17      ZL Imóvel   \n",
       "2            2022-10-17  Chaves Na Mão   \n",
       "3            2022-10-14      ZL Imóvel   \n",
       "4            2022-10-14       Captação   \n",
       "..                  ...            ...   \n",
       "277          2022-09-08            ZAP   \n",
       "278          2022-09-06            ZAP   \n",
       "279          2022-09-05            ZAP   \n",
       "280          2022-09-01            ZAP   \n",
       "281          2022-09-01     Imovel Web   \n",
       "\n",
       "                         Perfil - Finalidade              Perfil - Tipo  \\\n",
       "0                                Residencial                Apartamento   \n",
       "1                      Comercial - Comercial              Salão - Salão   \n",
       "2    Residencial - Residencial - Residencial   Sobrado - Casa - Sobrado   \n",
       "3                      Comercial - Comercial              Salão - Salão   \n",
       "4                  Residencial - Residencial          Sobrado - Sobrado   \n",
       "..                                       ...                        ...   \n",
       "277                              Residencial                Apartamento   \n",
       "278                              Residencial                Apartamento   \n",
       "279                Residencial - Residencial  Apartamento - Apartamento   \n",
       "280                              Residencial                Apartamento   \n",
       "281                              Residencial                Apartamento   \n",
       "\n",
       "     Atendimentos  Visitas  Propostas  Fechamentos  \n",
       "0               7        0          1            0  \n",
       "1               8        0          0            0  \n",
       "2               7        0          0            0  \n",
       "3              10        0          0            0  \n",
       "4               7        0          0            0  \n",
       "..            ...      ...        ...          ...  \n",
       "277             3        0          0            0  \n",
       "278             3        0          0            0  \n",
       "279             4        0          0            0  \n",
       "280             2        0          0            0  \n",
       "281             2        0          0            0  \n",
       "\n",
       "[282 rows x 8 columns]"
      ]
     },
     "execution_count": 43,
     "metadata": {},
     "output_type": "execute_result"
    }
   ],
   "source": [
    "#exclui a coluna Indicações\n",
    "df5 = df4.drop(['Indicações'], axis=1)\n",
    "df5"
   ]
  },
  {
   "cell_type": "code",
   "execution_count": null,
   "id": "0128d15c",
   "metadata": {},
   "outputs": [],
   "source": [
    "# Dataframe pronto para fazer as análises. A primeira será: na coluna Mídia, qual é a mídia que mais aparece \n",
    "# e o gráfico de barras com todas as mídias\n",
    "\n"
   ]
  }
 ],
 "metadata": {
  "kernelspec": {
   "display_name": "Python 3 (ipykernel)",
   "language": "python",
   "name": "python3"
  },
  "language_info": {
   "codemirror_mode": {
    "name": "ipython",
    "version": 3
   },
   "file_extension": ".py",
   "mimetype": "text/x-python",
   "name": "python",
   "nbconvert_exporter": "python",
   "pygments_lexer": "ipython3",
   "version": "3.9.13"
  }
 },
 "nbformat": 4,
 "nbformat_minor": 5
}
